{
 "cells": [
  {
   "cell_type": "code",
   "execution_count": 20,
   "id": "9020f201-8073-41a8-8519-f36cedcc7461",
   "metadata": {
    "execution": {
     "iopub.execute_input": "2022-12-05T03:37:22.584264Z",
     "iopub.status.busy": "2022-12-05T03:37:22.584030Z",
     "iopub.status.idle": "2022-12-05T03:37:22.647646Z",
     "shell.execute_reply": "2022-12-05T03:37:22.647056Z",
     "shell.execute_reply.started": "2022-12-05T03:37:22.584238Z"
    },
    "tags": []
   },
   "outputs": [
    {
     "data": {
      "application/vnd.jupyter.widget-view+json": {
       "model_id": "5c101c8253704b8897ba940e707e264d",
       "version_major": 2,
       "version_minor": 0
      },
      "text/plain": [
       "VBox()"
      ]
     },
     "metadata": {},
     "output_type": "display_data"
    },
    {
     "data": {
      "application/vnd.jupyter.widget-view+json": {
       "model_id": "",
       "version_major": 2,
       "version_minor": 0
      },
      "text/plain": [
       "FloatProgress(value=0.0, bar_style='info', description='Progress:', layout=Layout(height='25px', width='50%'),…"
      ]
     },
     "metadata": {},
     "output_type": "display_data"
    }
   ],
   "source": [
    "from pyspark.sql import SparkSession"
   ]
  },
  {
   "cell_type": "code",
   "execution_count": 2,
   "id": "8a08b4d4-2cdd-4891-be5f-8d9e283a22f9",
   "metadata": {
    "execution": {
     "iopub.execute_input": "2022-12-05T03:32:59.374688Z",
     "iopub.status.busy": "2022-12-05T03:32:59.374513Z",
     "iopub.status.idle": "2022-12-05T03:32:59.487428Z",
     "shell.execute_reply": "2022-12-05T03:32:59.486546Z",
     "shell.execute_reply.started": "2022-12-05T03:32:59.374666Z"
    },
    "tags": []
   },
   "outputs": [
    {
     "data": {
      "application/vnd.jupyter.widget-view+json": {
       "model_id": "b825c43505ca41e39a9f268a14ff4b8b",
       "version_major": 2,
       "version_minor": 0
      },
      "text/plain": [
       "VBox()"
      ]
     },
     "metadata": {},
     "output_type": "display_data"
    },
    {
     "data": {
      "application/vnd.jupyter.widget-view+json": {
       "model_id": "",
       "version_major": 2,
       "version_minor": 0
      },
      "text/plain": [
       "FloatProgress(value=0.0, bar_style='info', description='Progress:', layout=Layout(height='25px', width='50%'),…"
      ]
     },
     "metadata": {},
     "output_type": "display_data"
    }
   ],
   "source": [
    "from pyspark.sql import SparkSession\n",
    "from pyspark.sql.functions import udf \n",
    "from pyspark.sql import Window \n",
    "from pyspark.sql import functions as F\n",
    "from pyspark.sql.types import ArrayType, BooleanType, LongType, FloatType, IntegerType \n"
   ]
  },
  {
   "cell_type": "code",
   "execution_count": 3,
   "id": "45db0610-1cf1-4ea9-a636-2a3339521e2f",
   "metadata": {
    "execution": {
     "iopub.execute_input": "2022-12-05T03:32:59.489577Z",
     "iopub.status.busy": "2022-12-05T03:32:59.489187Z",
     "iopub.status.idle": "2022-12-05T03:33:00.308952Z",
     "shell.execute_reply": "2022-12-05T03:33:00.308316Z",
     "shell.execute_reply.started": "2022-12-05T03:32:59.489540Z"
    },
    "tags": []
   },
   "outputs": [
    {
     "data": {
      "application/vnd.jupyter.widget-view+json": {
       "model_id": "5b3145e819cb4da7976c02c6e3189c05",
       "version_major": 2,
       "version_minor": 0
      },
      "text/plain": [
       "VBox()"
      ]
     },
     "metadata": {},
     "output_type": "display_data"
    },
    {
     "data": {
      "application/vnd.jupyter.widget-view+json": {
       "model_id": "",
       "version_major": 2,
       "version_minor": 0
      },
      "text/plain": [
       "FloatProgress(value=0.0, bar_style='info', description='Progress:', layout=Layout(height='25px', width='50%'),…"
      ]
     },
     "metadata": {},
     "output_type": "display_data"
    }
   ],
   "source": [
    "spark = SparkSession.builder.appName(\"Spark Project\").getOrCreate()"
   ]
  },
  {
   "cell_type": "code",
   "execution_count": 123,
   "id": "76af5cc8-2fba-4518-a862-8516982012c5",
   "metadata": {
    "execution": {
     "iopub.execute_input": "2022-12-05T04:55:50.455962Z",
     "iopub.status.busy": "2022-12-05T04:55:50.455724Z",
     "iopub.status.idle": "2022-12-05T04:55:51.223578Z",
     "shell.execute_reply": "2022-12-05T04:55:51.222770Z",
     "shell.execute_reply.started": "2022-12-05T04:55:50.455939Z"
    },
    "tags": []
   },
   "outputs": [
    {
     "data": {
      "application/vnd.jupyter.widget-view+json": {
       "model_id": "869637fde5c34c69b058bf64c0021252",
       "version_major": 2,
       "version_minor": 0
      },
      "text/plain": [
       "VBox()"
      ]
     },
     "metadata": {},
     "output_type": "display_data"
    },
    {
     "data": {
      "application/vnd.jupyter.widget-view+json": {
       "model_id": "",
       "version_major": 2,
       "version_minor": 0
      },
      "text/plain": [
       "FloatProgress(value=0.0, bar_style='info', description='Progress:', layout=Layout(height='25px', width='50%'),…"
      ]
     },
     "metadata": {},
     "output_type": "display_data"
    },
    {
     "name": "stdout",
     "output_type": "stream",
     "text": [
      "+--------------------+-----+-----+-----+-----+------+\n",
      "|           timestamp| open| high|  low|close|volume|\n",
      "+--------------------+-----+-----+-----+-----+------+\n",
      "|2017-01-02 09:15:...|340.0|340.0|340.0|340.0|  11.0|\n",
      "|2017-01-02 09:16:...|340.0|340.0|340.0|340.0|   0.0|\n",
      "|2017-01-02 09:17:...|340.0|340.0|340.0|340.0|   0.0|\n",
      "|2017-01-02 09:18:...|340.0|343.7|340.0|343.7|   1.0|\n",
      "|2017-01-02 09:19:...|343.7|343.7|343.7|343.7|   1.0|\n",
      "+--------------------+-----+-----+-----+-----+------+\n",
      "only showing top 5 rows"
     ]
    }
   ],
   "source": [
    "data = \"s3n://stock-market-test/AARTIIND__EQ__NSE__NSE__MINUTE.csv\"\n",
    "df = spark.read.csv(data,  header='true')\n",
    "df.show(5)"
   ]
  },
  {
   "cell_type": "code",
   "execution_count": 131,
   "id": "4aefc636-b32a-4ef5-8441-7380ed54b314",
   "metadata": {
    "execution": {
     "iopub.execute_input": "2022-12-05T05:06:40.248883Z",
     "iopub.status.busy": "2022-12-05T05:06:40.248647Z",
     "iopub.status.idle": "2022-12-05T05:06:42.528710Z",
     "shell.execute_reply": "2022-12-05T05:06:42.528088Z",
     "shell.execute_reply.started": "2022-12-05T05:06:40.248858Z"
    },
    "tags": []
   },
   "outputs": [
    {
     "data": {
      "application/vnd.jupyter.widget-view+json": {
       "model_id": "7598b11c1ae849bf86cd254ba2146072",
       "version_major": 2,
       "version_minor": 0
      },
      "text/plain": [
       "VBox()"
      ]
     },
     "metadata": {},
     "output_type": "display_data"
    },
    {
     "data": {
      "application/vnd.jupyter.widget-view+json": {
       "model_id": "",
       "version_major": 2,
       "version_minor": 0
      },
      "text/plain": [
       "FloatProgress(value=0.0, bar_style='info', description='Progress:', layout=Layout(height='25px', width='50%'),…"
      ]
     },
     "metadata": {},
     "output_type": "display_data"
    },
    {
     "name": "stdout",
     "output_type": "stream",
     "text": [
      "+----------+------+------+------+------+--------+\n",
      "|      Date|  OPEN|   LOW|  HIGH| CLOSE|  VOLUME|\n",
      "+----------+------+------+------+------+--------+\n",
      "|2017-01-02| 340.0| 337.3|348.95| 346.0|  8372.0|\n",
      "|2017-01-03| 349.5| 341.8| 355.0| 350.0| 20826.0|\n",
      "|2017-01-04| 353.3| 341.5|355.65| 350.0|131883.0|\n",
      "|2017-01-05|352.35|349.55|354.95| 351.5|  8818.0|\n",
      "|2017-01-06| 352.0| 349.0| 354.9| 349.1|  8128.0|\n",
      "|2017-01-09|351.75| 348.0| 352.0| 348.5|  6310.0|\n",
      "|2017-01-10| 350.0| 348.0|352.25| 350.5| 10186.0|\n",
      "|2017-01-11| 350.5|346.75|351.35|351.25| 17155.0|\n",
      "|2017-01-12| 350.5|349.05|351.95| 350.0|  8469.0|\n",
      "|2017-01-13| 348.1| 348.1| 354.0|351.95| 12967.0|\n",
      "|2017-01-16| 351.9| 350.0| 355.0|353.95|  8673.0|\n",
      "|2017-01-17|353.55| 352.1| 354.5| 354.0|  7386.0|\n",
      "|2017-01-18| 355.0| 352.5|360.75| 356.5| 27663.0|\n",
      "|2017-01-19| 355.2|350.05| 359.7| 352.5| 16641.0|\n",
      "|2017-01-20| 355.0| 342.5| 355.0|343.25| 28588.0|\n",
      "|2017-01-23| 340.6|336.55|353.35| 353.0| 15594.0|\n",
      "|2017-01-24| 350.0| 346.5|353.85| 346.5| 20011.0|\n",
      "|2017-01-25| 347.1| 345.6|354.25| 351.5| 62783.0|\n",
      "|2017-01-27| 352.5|352.45| 362.2| 360.5| 45212.0|\n",
      "|2017-01-30| 361.5| 358.6| 364.9| 359.5| 43072.0|\n",
      "|2017-01-31|357.55| 356.5|361.85| 360.0| 26472.0|\n",
      "|2017-02-01|359.95|355.65| 367.5| 365.9| 23784.0|\n",
      "|2017-02-02|367.45| 366.5| 377.5| 369.0| 36047.0|\n",
      "|2017-02-03|371.95| 370.1| 385.0| 380.0| 60940.0|\n",
      "|2017-02-06| 386.0|377.55| 398.3|390.95| 68809.0|\n",
      "|2017-02-07| 394.5| 387.5| 399.5| 393.6| 37756.0|\n",
      "|2017-02-08| 392.5|388.05|397.75|395.25| 31070.0|\n",
      "|2017-02-09| 395.3| 386.5|398.75| 389.0| 13895.0|\n",
      "|2017-02-10|393.25| 386.3|395.85| 395.0| 18439.0|\n",
      "|2017-02-13|390.05|390.05|401.45| 396.8| 21977.0|\n",
      "|2017-02-14| 398.4|391.05|398.95| 391.1| 10576.0|\n",
      "|2017-02-15| 390.0| 386.5| 394.9| 386.5| 14547.0|\n",
      "|2017-02-16| 386.0| 385.5|398.15| 395.0| 15682.0|\n",
      "|2017-02-17| 392.5| 392.5|399.85|399.45| 71913.0|\n",
      "|2017-02-20| 399.9| 392.8|399.95|393.25| 39114.0|\n",
      "|2017-02-21|398.85| 393.5|398.85|394.05|  6570.0|\n",
      "|2017-02-22| 397.7| 390.0| 397.7|392.45| 13446.0|\n",
      "|2017-02-23|387.65| 384.5| 394.7| 385.5| 22312.0|\n",
      "|2017-02-27|391.95|384.55|394.95| 392.5| 24916.0|\n",
      "|2017-02-28| 393.2|386.65|394.95| 388.0| 10625.0|\n",
      "|2017-03-01| 389.5|385.15|391.55| 386.3|  8594.0|\n",
      "|2017-03-02|326.65|326.65|389.95| 382.0| 29332.0|\n",
      "|2017-03-03| 382.0| 367.5| 384.8| 370.0| 28567.0|\n",
      "|2017-03-06| 372.1|358.95|375.95| 372.1| 35631.0|\n",
      "|2017-03-07|363.55| 363.5| 377.5|369.25| 13517.0|\n",
      "|2017-03-08|372.15|363.75| 393.3| 386.5|153097.0|\n",
      "|2017-03-09|385.45| 380.1|392.45|387.45| 28129.0|\n",
      "|2017-03-10| 387.5| 384.0| 390.5| 387.0| 42900.0|\n",
      "|2017-03-14| 390.0| 382.5|392.45| 385.5| 22723.0|\n",
      "|2017-03-15|386.45|385.05| 397.5| 394.5|100879.0|\n",
      "+----------+------+------+------+------+--------+\n",
      "only showing top 50 rows"
     ]
    }
   ],
   "source": [
    "#Resampling on Daily Basis\n",
    "df.createOrReplaceTempView('data');\n",
    "query2 = spark.sql(\"SELECT DATE(timestamp) as Date,FIRST(open) as OPEN,MIN(low) as LOW,MAX(high) as HIGH,LAST(close) as CLOSE,SUM(volume) as VOLUME from data group by DATE(timestamp) order by Date\")\n",
    "query2.show(50)"
   ]
  },
  {
   "cell_type": "code",
   "execution_count": 160,
   "id": "1f7a90d0-48f4-42c0-ad76-5d6d1a3b9354",
   "metadata": {
    "execution": {
     "iopub.execute_input": "2022-12-05T05:35:59.795116Z",
     "iopub.status.busy": "2022-12-05T05:35:59.794899Z",
     "iopub.status.idle": "2022-12-05T05:36:01.078571Z",
     "shell.execute_reply": "2022-12-05T05:36:01.077299Z",
     "shell.execute_reply.started": "2022-12-05T05:35:59.795094Z"
    },
    "tags": []
   },
   "outputs": [
    {
     "data": {
      "application/vnd.jupyter.widget-view+json": {
       "model_id": "1ad12a1d61f140909ac05472276b6e8e",
       "version_major": 2,
       "version_minor": 0
      },
      "text/plain": [
       "VBox()"
      ]
     },
     "metadata": {},
     "output_type": "display_data"
    },
    {
     "data": {
      "application/vnd.jupyter.widget-view+json": {
       "model_id": "",
       "version_major": 2,
       "version_minor": 0
      },
      "text/plain": [
       "FloatProgress(value=0.0, bar_style='info', description='Progress:', layout=Layout(height='25px', width='50%'),…"
      ]
     },
     "metadata": {},
     "output_type": "display_data"
    },
    {
     "name": "stdout",
     "output_type": "stream",
     "text": [
      "+-----------------+\n",
      "|Percentage_Return|\n",
      "+-----------------+\n",
      "|370.5882352941177|\n",
      "+-----------------+"
     ]
    }
   ],
   "source": [
    "#Returns on a Stock\n",
    "df.createOrReplaceTempView('data');\n",
    "query3 = spark.sql(\"SELECT LAST(close)/FIRST(close)* 100 as Percentage_Return from data\")\n",
    "query3.show()"
   ]
  },
  {
   "cell_type": "code",
   "execution_count": 174,
   "id": "9a9a6399-e6cd-4583-a3be-a8d6d42381ff",
   "metadata": {
    "execution": {
     "iopub.execute_input": "2022-12-05T06:06:25.908210Z",
     "iopub.status.busy": "2022-12-05T06:06:25.907978Z",
     "iopub.status.idle": "2022-12-05T06:06:27.193450Z",
     "shell.execute_reply": "2022-12-05T06:06:27.192833Z",
     "shell.execute_reply.started": "2022-12-05T06:06:25.908186Z"
    },
    "tags": []
   },
   "outputs": [
    {
     "data": {
      "application/vnd.jupyter.widget-view+json": {
       "model_id": "f264674c72a24c4d9eeefde5b97bc9e5",
       "version_major": 2,
       "version_minor": 0
      },
      "text/plain": [
       "VBox()"
      ]
     },
     "metadata": {},
     "output_type": "display_data"
    },
    {
     "data": {
      "application/vnd.jupyter.widget-view+json": {
       "model_id": "",
       "version_major": 2,
       "version_minor": 0
      },
      "text/plain": [
       "FloatProgress(value=0.0, bar_style='info', description='Progress:', layout=Layout(height='25px', width='50%'),…"
      ]
     },
     "metadata": {},
     "output_type": "display_data"
    },
    {
     "name": "stdout",
     "output_type": "stream",
     "text": [
      "+----------+----------+\n",
      "| timestamp|volatility|\n",
      "+----------+----------+\n",
      "|2020-04-27|      95.0|\n",
      "|2020-03-13|      88.8|\n",
      "|2020-01-29|      88.0|\n",
      "|2018-01-05|      85.0|\n",
      "|2020-04-28|      68.0|\n",
      "|2020-08-20|      57.1|\n",
      "|2017-03-02|     55.35|\n",
      "|2020-11-05|      54.0|\n",
      "|2020-11-27|     51.35|\n",
      "|2019-10-18|      48.5|\n",
      "|2019-05-30|      45.0|\n",
      "|2020-03-31|      44.0|\n",
      "|2018-10-03|      43.0|\n",
      "|2020-02-20|     42.15|\n",
      "|2019-09-20|      41.2|\n",
      "|2020-12-07|     41.15|\n",
      "|2020-08-19|     40.95|\n",
      "|2018-08-30|     39.75|\n",
      "|2020-01-28|     39.15|\n",
      "|2019-02-04|      38.5|\n",
      "+----------+----------+\n",
      "only showing top 20 rows"
     ]
    }
   ],
   "source": [
    "#Amount Traded\n",
    "df.createOrReplaceTempView('data');\n",
    "query4 = spark.sql(\"SELECT DATE(timestamp) ,ROUND(LAST(close)-FIRST(open),2) as volatility from data group by DATE(timestamp) order by volatility DESC\")\n",
    "query4.show()"
   ]
  },
  {
   "cell_type": "code",
   "execution_count": 159,
   "id": "25968514-e2d4-4440-b0b8-2f5e0ce5e5a5",
   "metadata": {
    "execution": {
     "iopub.execute_input": "2022-12-05T05:35:25.659799Z",
     "iopub.status.busy": "2022-12-05T05:35:25.659560Z",
     "iopub.status.idle": "2022-12-05T05:35:26.937948Z",
     "shell.execute_reply": "2022-12-05T05:35:26.937211Z",
     "shell.execute_reply.started": "2022-12-05T05:35:25.659775Z"
    },
    "tags": []
   },
   "outputs": [
    {
     "data": {
      "application/vnd.jupyter.widget-view+json": {
       "model_id": "b05081e75ab648d4a22833090d536e4d",
       "version_major": 2,
       "version_minor": 0
      },
      "text/plain": [
       "VBox()"
      ]
     },
     "metadata": {},
     "output_type": "display_data"
    },
    {
     "data": {
      "application/vnd.jupyter.widget-view+json": {
       "model_id": "",
       "version_major": 2,
       "version_minor": 0
      },
      "text/plain": [
       "FloatProgress(value=0.0, bar_style='info', description='Progress:', layout=Layout(height='25px', width='50%'),…"
      ]
     },
     "metadata": {},
     "output_type": "display_data"
    },
    {
     "name": "stdout",
     "output_type": "stream",
     "text": [
      "+----------+--------+\n",
      "|      Date|  Volume|\n",
      "+----------+--------+\n",
      "|2017-01-02|  8372.0|\n",
      "|2017-01-03| 20826.0|\n",
      "|2017-01-04|131883.0|\n",
      "|2017-01-05|  8818.0|\n",
      "|2017-01-06|  8128.0|\n",
      "|2017-01-09|  6310.0|\n",
      "|2017-01-10| 10186.0|\n",
      "|2017-01-11| 17155.0|\n",
      "|2017-01-12|  8469.0|\n",
      "|2017-01-13| 12967.0|\n",
      "|2017-01-16|  8673.0|\n",
      "|2017-01-17|  7386.0|\n",
      "|2017-01-18| 27663.0|\n",
      "|2017-01-19| 16641.0|\n",
      "|2017-01-20| 28588.0|\n",
      "|2017-01-23| 15594.0|\n",
      "|2017-01-24| 20011.0|\n",
      "|2017-01-25| 62783.0|\n",
      "|2017-01-27| 45212.0|\n",
      "|2017-01-30| 43072.0|\n",
      "+----------+--------+\n",
      "only showing top 20 rows"
     ]
    }
   ],
   "source": [
    "#Daily Volume on trading\n",
    "df.createOrReplaceTempView('data');\n",
    "query1 = spark.sql(\"SELECT DATE(timestamp) as Date,SUM(volume) as Volume from data group by DATE(timestamp) order by Date\")\n",
    "query1.show(20)"
   ]
  },
  {
   "cell_type": "code",
   "execution_count": 153,
   "id": "4ef40ff4-0ae5-420f-81d6-491baea46bb7",
   "metadata": {
    "execution": {
     "iopub.execute_input": "2022-12-05T05:28:46.420298Z",
     "iopub.status.busy": "2022-12-05T05:28:46.419808Z",
     "iopub.status.idle": "2022-12-05T05:28:47.214494Z",
     "shell.execute_reply": "2022-12-05T05:28:47.213764Z",
     "shell.execute_reply.started": "2022-12-05T05:28:46.420251Z"
    },
    "tags": []
   },
   "outputs": [
    {
     "data": {
      "application/vnd.jupyter.widget-view+json": {
       "model_id": "81b77ddd86e6406c861cf17de60f05c3",
       "version_major": 2,
       "version_minor": 0
      },
      "text/plain": [
       "VBox()"
      ]
     },
     "metadata": {},
     "output_type": "display_data"
    },
    {
     "data": {
      "application/vnd.jupyter.widget-view+json": {
       "model_id": "",
       "version_major": 2,
       "version_minor": 0
      },
      "text/plain": [
       "FloatProgress(value=0.0, bar_style='info', description='Progress:', layout=Layout(height='25px', width='50%'),…"
      ]
     },
     "metadata": {},
     "output_type": "display_data"
    },
    {
     "name": "stdout",
     "output_type": "stream",
     "text": [
      "+-----------+\n",
      "|last(close)|\n",
      "+-----------+\n",
      "|     1260.0|\n",
      "+-----------+"
     ]
    }
   ],
   "source": [
    "#Resampling on Daily Basis\n",
    "df.createOrReplaceTempView('data');\n",
    "query2 = spark.sql(\"SELECT LAST(close) from data\")\n",
    "query2.show()"
   ]
  },
  {
   "cell_type": "code",
   "execution_count": 77,
   "id": "85c4aacd-1359-457b-b043-02a7cd9ea42a",
   "metadata": {
    "execution": {
     "iopub.execute_input": "2022-12-05T04:12:50.181335Z",
     "iopub.status.busy": "2022-12-05T04:12:50.181113Z",
     "iopub.status.idle": "2022-12-05T04:12:57.483895Z",
     "shell.execute_reply": "2022-12-05T04:12:57.483175Z",
     "shell.execute_reply.started": "2022-12-05T04:12:50.181312Z"
    },
    "tags": []
   },
   "outputs": [
    {
     "data": {
      "application/vnd.jupyter.widget-view+json": {
       "model_id": "4dcc1a4b14094f2b9b12ca9f78a7c4f1",
       "version_major": 2,
       "version_minor": 0
      },
      "text/plain": [
       "VBox()"
      ]
     },
     "metadata": {},
     "output_type": "display_data"
    },
    {
     "data": {
      "application/vnd.jupyter.widget-view+json": {
       "model_id": "",
       "version_major": 2,
       "version_minor": 0
      },
      "text/plain": [
       "FloatProgress(value=0.0, bar_style='info', description='Progress:', layout=Layout(height='25px', width='50%'),…"
      ]
     },
     "metadata": {},
     "output_type": "display_data"
    },
    {
     "name": "stdout",
     "output_type": "stream",
     "text": [
      "DataFrame[summary: string, timestamp: string, open: string, high: string, low: string, close: string, volume: string]"
     ]
    }
   ],
   "source": [
    "df.summary()"
   ]
  },
  {
   "cell_type": "code",
   "execution_count": 79,
   "id": "e9d8a288-5114-4227-a534-2ca53bf45cb8",
   "metadata": {
    "execution": {
     "iopub.execute_input": "2022-12-05T04:14:21.734271Z",
     "iopub.status.busy": "2022-12-05T04:14:21.734039Z",
     "iopub.status.idle": "2022-12-05T04:14:21.789618Z",
     "shell.execute_reply": "2022-12-05T04:14:21.788980Z",
     "shell.execute_reply.started": "2022-12-05T04:14:21.734246Z"
    },
    "tags": []
   },
   "outputs": [
    {
     "data": {
      "application/vnd.jupyter.widget-view+json": {
       "model_id": "b214d1b6284e4a129d57d5c562621657",
       "version_major": 2,
       "version_minor": 0
      },
      "text/plain": [
       "VBox()"
      ]
     },
     "metadata": {},
     "output_type": "display_data"
    },
    {
     "data": {
      "application/vnd.jupyter.widget-view+json": {
       "model_id": "",
       "version_major": 2,
       "version_minor": 0
      },
      "text/plain": [
       "FloatProgress(value=0.0, bar_style='info', description='Progress:', layout=Layout(height='25px', width='50%'),…"
      ]
     },
     "metadata": {},
     "output_type": "display_data"
    }
   ],
   "source": [
    "df1 = df"
   ]
  },
  {
   "cell_type": "code",
   "execution_count": 80,
   "id": "15440d1f-7d09-4344-a734-2524cd5083e7",
   "metadata": {
    "execution": {
     "iopub.execute_input": "2022-12-05T04:14:24.429110Z",
     "iopub.status.busy": "2022-12-05T04:14:24.428870Z",
     "iopub.status.idle": "2022-12-05T04:14:25.204095Z",
     "shell.execute_reply": "2022-12-05T04:14:25.203247Z",
     "shell.execute_reply.started": "2022-12-05T04:14:24.429083Z"
    },
    "tags": []
   },
   "outputs": [
    {
     "data": {
      "application/vnd.jupyter.widget-view+json": {
       "model_id": "da2a3f098f314b98a86be58d9a7b9906",
       "version_major": 2,
       "version_minor": 0
      },
      "text/plain": [
       "VBox()"
      ]
     },
     "metadata": {},
     "output_type": "display_data"
    },
    {
     "data": {
      "application/vnd.jupyter.widget-view+json": {
       "model_id": "",
       "version_major": 2,
       "version_minor": 0
      },
      "text/plain": [
       "FloatProgress(value=0.0, bar_style='info', description='Progress:', layout=Layout(height='25px', width='50%'),…"
      ]
     },
     "metadata": {},
     "output_type": "display_data"
    },
    {
     "name": "stdout",
     "output_type": "stream",
     "text": [
      "aws-cfn-bootstrap (2.0)\n",
      "beautifulsoup4 (4.9.3)\n",
      "boto (2.49.0)\n",
      "click (8.1.1)\n",
      "Cython (0.29.32)\n",
      "docutils (0.14)\n",
      "jmespath (1.0.0)\n",
      "joblib (1.1.0)\n",
      "lockfile (0.11.0)\n",
      "lxml (4.8.0)\n",
      "mysqlclient (1.4.2)\n",
      "nltk (3.7)\n",
      "nose (1.3.4)\n",
      "numpy (1.20.0)\n",
      "pip (9.0.1)\n",
      "py-dateutil (2.2)\n",
      "pystache (0.5.4)\n",
      "python-daemon (2.2.3)\n",
      "python-dateutil (2.8.2)\n",
      "python37-sagemaker-pyspark (1.4.1)\n",
      "pytz (2022.1)\n",
      "PyYAML (5.4.1)\n",
      "regex (2021.11.10)\n",
      "setuptools (28.8.0)\n",
      "simplejson (3.2.0)\n",
      "six (1.13.0)\n",
      "tqdm (4.63.1)\n",
      "wheel (0.29.0)\n",
      "windmill (1.6)\n",
      "\n",
      "DEPRECATION: The default format will switch to columns in the future. You can use --format=(legacy|columns) (or define a format=(legacy|columns) in your pip.conf under the [list] section) to disable this warning.\n",
      "You are using pip version 9.0.1, however version 22.3.1 is available.\n",
      "You should consider upgrading via the 'pip install --upgrade pip' command."
     ]
    }
   ],
   "source": [
    "sc.list_packages()"
   ]
  },
  {
   "cell_type": "code",
   "execution_count": 81,
   "id": "895fd05c-8261-4973-8933-17fa6d03af2e",
   "metadata": {
    "execution": {
     "iopub.execute_input": "2022-12-05T04:14:31.279217Z",
     "iopub.status.busy": "2022-12-05T04:14:31.278872Z",
     "iopub.status.idle": "2022-12-05T04:14:31.550249Z",
     "shell.execute_reply": "2022-12-05T04:14:31.549654Z",
     "shell.execute_reply.started": "2022-12-05T04:14:31.279176Z"
    },
    "tags": []
   },
   "outputs": [
    {
     "data": {
      "application/vnd.jupyter.widget-view+json": {
       "model_id": "e1766a7dd0e442efa575d4cc29a1d1a6",
       "version_major": 2,
       "version_minor": 0
      },
      "text/plain": [
       "VBox()"
      ]
     },
     "metadata": {},
     "output_type": "display_data"
    },
    {
     "data": {
      "application/vnd.jupyter.widget-view+json": {
       "model_id": "",
       "version_major": 2,
       "version_minor": 0
      },
      "text/plain": [
       "FloatProgress(value=0.0, bar_style='info', description='Progress:', layout=Layout(height='25px', width='50%'),…"
      ]
     },
     "metadata": {},
     "output_type": "display_data"
    }
   ],
   "source": [
    "df= df.withColumn(\"open\",df.open.cast('float'))\n",
    "df= df.withColumn(\"high\",df.high.cast('float'))\n",
    "df= df.withColumn(\"close\",df.close.cast('float'))\n",
    "df= df.withColumn(\"volume\",df.volume.cast('float'))\n",
    "df= df.withColumn(\"low\",df.low.cast('float'))"
   ]
  },
  {
   "cell_type": "code",
   "execution_count": 86,
   "id": "8b96b6aa-14da-45bb-8a70-7f7ac8a08269",
   "metadata": {
    "execution": {
     "iopub.execute_input": "2022-12-05T04:15:08.277395Z",
     "iopub.status.busy": "2022-12-05T04:15:08.277157Z",
     "iopub.status.idle": "2022-12-05T04:15:08.342436Z",
     "shell.execute_reply": "2022-12-05T04:15:08.341862Z",
     "shell.execute_reply.started": "2022-12-05T04:15:08.277369Z"
    },
    "tags": []
   },
   "outputs": [
    {
     "data": {
      "application/vnd.jupyter.widget-view+json": {
       "model_id": "eaab18db017348d7bb94f553b2e2449a",
       "version_major": 2,
       "version_minor": 0
      },
      "text/plain": [
       "VBox()"
      ]
     },
     "metadata": {},
     "output_type": "display_data"
    },
    {
     "data": {
      "application/vnd.jupyter.widget-view+json": {
       "model_id": "",
       "version_major": 2,
       "version_minor": 0
      },
      "text/plain": [
       "FloatProgress(value=0.0, bar_style='info', description='Progress:', layout=Layout(height='25px', width='50%'),…"
      ]
     },
     "metadata": {},
     "output_type": "display_data"
    },
    {
     "name": "stderr",
     "output_type": "stream",
     "text": [
      "An error was encountered:\n",
      "name 'to_timestamp' is not defined\n",
      "Traceback (most recent call last):\n",
      "NameError: name 'to_timestamp' is not defined\n",
      "\n"
     ]
    }
   ],
   "source": [
    "df= df.withColumn(\"timestamp\",to_timestamp('timestamp'))"
   ]
  },
  {
   "cell_type": "code",
   "execution_count": 85,
   "id": "7fa6b7e1-9ae9-47a1-8cef-7d48be04b891",
   "metadata": {
    "execution": {
     "iopub.execute_input": "2022-12-05T04:15:02.635457Z",
     "iopub.status.busy": "2022-12-05T04:15:02.635220Z",
     "iopub.status.idle": "2022-12-05T04:15:02.699704Z",
     "shell.execute_reply": "2022-12-05T04:15:02.699053Z",
     "shell.execute_reply.started": "2022-12-05T04:15:02.635432Z"
    },
    "tags": []
   },
   "outputs": [
    {
     "data": {
      "application/vnd.jupyter.widget-view+json": {
       "model_id": "91939510d82f4d3cb81dea83aeb83365",
       "version_major": 2,
       "version_minor": 0
      },
      "text/plain": [
       "VBox()"
      ]
     },
     "metadata": {},
     "output_type": "display_data"
    },
    {
     "data": {
      "application/vnd.jupyter.widget-view+json": {
       "model_id": "",
       "version_major": 2,
       "version_minor": 0
      },
      "text/plain": [
       "FloatProgress(value=0.0, bar_style='info', description='Progress:', layout=Layout(height='25px', width='50%'),…"
      ]
     },
     "metadata": {},
     "output_type": "display_data"
    },
    {
     "name": "stdout",
     "output_type": "stream",
     "text": [
      "DataFrame[timestamp: string, open: float, high: float, low: float, close: float, volume: float]"
     ]
    }
   ],
   "source": [
    "df"
   ]
  },
  {
   "cell_type": "code",
   "execution_count": 84,
   "id": "984d4cc9-9603-451b-8147-5b7fdde0a8a1",
   "metadata": {
    "execution": {
     "iopub.execute_input": "2022-12-05T04:14:59.328851Z",
     "iopub.status.busy": "2022-12-05T04:14:59.328579Z",
     "iopub.status.idle": "2022-12-05T04:14:59.387778Z",
     "shell.execute_reply": "2022-12-05T04:14:59.387168Z",
     "shell.execute_reply.started": "2022-12-05T04:14:59.328825Z"
    },
    "tags": []
   },
   "outputs": [
    {
     "data": {
      "application/vnd.jupyter.widget-view+json": {
       "model_id": "f898796d687f4edf8b2d877faf93b0c7",
       "version_major": 2,
       "version_minor": 0
      },
      "text/plain": [
       "VBox()"
      ]
     },
     "metadata": {},
     "output_type": "display_data"
    },
    {
     "data": {
      "application/vnd.jupyter.widget-view+json": {
       "model_id": "",
       "version_major": 2,
       "version_minor": 0
      },
      "text/plain": [
       "FloatProgress(value=0.0, bar_style='info', description='Progress:', layout=Layout(height='25px', width='50%'),…"
      ]
     },
     "metadata": {},
     "output_type": "display_data"
    },
    {
     "name": "stdout",
     "output_type": "stream",
     "text": [
      "Column<b'timestamp'>"
     ]
    }
   ],
   "source": [
    "df1['timestamp']"
   ]
  },
  {
   "cell_type": "code",
   "execution_count": 87,
   "id": "43dba695-ec1f-4e4a-870b-e12c2fe65912",
   "metadata": {
    "execution": {
     "iopub.execute_input": "2022-12-05T04:15:22.181236Z",
     "iopub.status.busy": "2022-12-05T04:15:22.181011Z",
     "iopub.status.idle": "2022-12-05T04:15:31.480596Z",
     "shell.execute_reply": "2022-12-05T04:15:31.479980Z",
     "shell.execute_reply.started": "2022-12-05T04:15:22.181211Z"
    },
    "tags": []
   },
   "outputs": [
    {
     "data": {
      "application/vnd.jupyter.widget-view+json": {
       "model_id": "a011d4ae8dcb44d9871f71f6a3d1ced9",
       "version_major": 2,
       "version_minor": 0
      },
      "text/plain": [
       "VBox()"
      ]
     },
     "metadata": {},
     "output_type": "display_data"
    },
    {
     "data": {
      "application/vnd.jupyter.widget-view+json": {
       "model_id": "",
       "version_major": 2,
       "version_minor": 0
      },
      "text/plain": [
       "FloatProgress(value=0.0, bar_style='info', description='Progress:', layout=Layout(height='25px', width='50%'),…"
      ]
     },
     "metadata": {},
     "output_type": "display_data"
    },
    {
     "name": "stdout",
     "output_type": "stream",
     "text": [
      "+----------+------+------+------+------+------+\n",
      "| timestamp|  open|  high|   low| close|volume|\n",
      "+----------+------+------+------+------+------+\n",
      "|2017-01-02|339.85|339.85|339.45|339.45|   5.0|\n",
      "|2017-01-02| 338.0| 338.0| 337.5| 337.5|  20.0|\n",
      "|2017-01-02|339.85|339.85|339.85|339.85|   0.0|\n",
      "|2017-01-02| 341.0| 341.0| 339.0| 339.0|   7.0|\n",
      "|2017-01-02| 337.5| 338.0| 337.5| 338.0|  68.0|\n",
      "|2017-01-02| 339.0| 339.0| 339.0| 339.0| 102.0|\n",
      "|2017-01-02| 339.0|339.85| 339.0|339.85|   5.0|\n",
      "|2017-01-02| 340.0| 340.0| 340.0| 340.0|   0.0|\n",
      "|2017-01-02| 341.0| 341.0| 341.0| 341.0| 932.0|\n",
      "|2017-01-02| 338.0|338.95| 338.0|338.95|   4.0|\n",
      "|2017-01-02| 337.3| 338.5| 337.3| 337.5| 131.0|\n",
      "|2017-01-02| 337.5| 339.5| 337.5| 339.5|  62.0|\n",
      "|2017-01-02| 339.5|339.95| 339.5|339.95|  10.0|\n",
      "|2017-01-02| 339.0| 339.0| 339.0| 339.0|   1.0|\n",
      "|2017-01-02| 339.0| 339.0| 339.0| 339.0|   5.0|\n",
      "|2017-01-02| 340.0| 340.0| 340.0| 340.0|  11.0|\n",
      "|2017-01-02| 340.0| 340.0| 340.0| 340.0|   0.0|\n",
      "|2017-01-02| 340.0| 343.7| 340.0| 343.7|   1.0|\n",
      "|2017-01-02| 343.7| 343.7| 343.7| 343.7|   1.0|\n",
      "|2017-01-02| 339.0|339.15| 338.0| 338.0|  26.0|\n",
      "+----------+------+------+------+------+------+\n",
      "only showing top 20 rows"
     ]
    }
   ],
   "source": [
    "import pyspark.sql.functions as F\n",
    "\n",
    "test_df= df\n",
    "test_df_date = test_df.withColumn('timestamp', F.to_date(test_df['timestamp']))\n",
    "\n",
    "test_df_date.orderBy('timestamp').show() "
   ]
  },
  {
   "cell_type": "code",
   "execution_count": 89,
   "id": "4a1fd78e-6e87-408e-b2b2-ee3a008c8acf",
   "metadata": {
    "execution": {
     "iopub.execute_input": "2022-12-05T04:16:41.837834Z",
     "iopub.status.busy": "2022-12-05T04:16:41.837604Z",
     "iopub.status.idle": "2022-12-05T04:16:49.133916Z",
     "shell.execute_reply": "2022-12-05T04:16:49.133130Z",
     "shell.execute_reply.started": "2022-12-05T04:16:41.837811Z"
    },
    "tags": []
   },
   "outputs": [
    {
     "data": {
      "application/vnd.jupyter.widget-view+json": {
       "model_id": "429a292335ac4b9788a7a44b96ab4eb7",
       "version_major": 2,
       "version_minor": 0
      },
      "text/plain": [
       "VBox()"
      ]
     },
     "metadata": {},
     "output_type": "display_data"
    },
    {
     "data": {
      "application/vnd.jupyter.widget-view+json": {
       "model_id": "",
       "version_major": 2,
       "version_minor": 0
      },
      "text/plain": [
       "FloatProgress(value=0.0, bar_style='info', description='Progress:', layout=Layout(height='25px', width='50%'),…"
      ]
     },
     "metadata": {},
     "output_type": "display_data"
    },
    {
     "name": "stdout",
     "output_type": "stream",
     "text": [
      "+----------+------+------+------+------+------+\n",
      "| timestamp|  open|  high|   low| close|volume|\n",
      "+----------+------+------+------+------+------+\n",
      "|2017-01-02| 340.0| 340.0| 340.0| 340.0|  11.0|\n",
      "|2017-01-02| 340.0| 340.0| 340.0| 340.0|   0.0|\n",
      "|2017-01-02| 340.0| 340.0| 340.0| 340.0|   0.0|\n",
      "|2017-01-02| 340.0| 343.7| 340.0| 343.7|   1.0|\n",
      "|2017-01-02| 343.7| 343.7| 343.7| 343.7|   1.0|\n",
      "|2017-01-02| 341.0| 341.0| 341.0| 341.0| 932.0|\n",
      "|2017-01-02| 341.0| 341.0| 339.0| 339.0|   7.0|\n",
      "|2017-01-02| 339.0|339.15| 338.0| 338.0|  26.0|\n",
      "|2017-01-02| 338.0|338.95| 338.0|338.95|   4.0|\n",
      "|2017-01-02| 337.3| 338.5| 337.3| 337.5| 131.0|\n",
      "|2017-01-02| 337.5| 338.0| 337.5| 338.0|  68.0|\n",
      "|2017-01-02| 338.0| 338.0| 337.5| 337.5|  20.0|\n",
      "|2017-01-02| 337.5| 339.5| 337.5| 339.5|  62.0|\n",
      "|2017-01-02| 339.5|339.95| 339.5|339.95|  10.0|\n",
      "|2017-01-02| 339.0| 339.0| 339.0| 339.0| 102.0|\n",
      "|2017-01-02| 339.0| 339.0| 339.0| 339.0|   1.0|\n",
      "|2017-01-02| 339.0| 339.0| 339.0| 339.0|   5.0|\n",
      "|2017-01-02| 339.0|339.85| 339.0|339.85|   5.0|\n",
      "|2017-01-02|339.85|339.85|339.85|339.85|   0.0|\n",
      "|2017-01-02|339.85|339.85|339.45|339.45|   5.0|\n",
      "+----------+------+------+------+------+------+\n",
      "only showing top 20 rows"
     ]
    }
   ],
   "source": [
    "test_df_date.show()"
   ]
  },
  {
   "cell_type": "code",
   "execution_count": 115,
   "id": "010c8717-8a9b-4082-8c3e-421adf4d412b",
   "metadata": {
    "execution": {
     "iopub.execute_input": "2022-12-05T04:45:58.702886Z",
     "iopub.status.busy": "2022-12-05T04:45:58.702657Z",
     "iopub.status.idle": "2022-12-05T04:45:58.758491Z",
     "shell.execute_reply": "2022-12-05T04:45:58.757839Z",
     "shell.execute_reply.started": "2022-12-05T04:45:58.702862Z"
    },
    "tags": []
   },
   "outputs": [
    {
     "data": {
      "application/vnd.jupyter.widget-view+json": {
       "model_id": "7500102826414d92830cd9f6e60de716",
       "version_major": 2,
       "version_minor": 0
      },
      "text/plain": [
       "VBox()"
      ]
     },
     "metadata": {},
     "output_type": "display_data"
    },
    {
     "data": {
      "application/vnd.jupyter.widget-view+json": {
       "model_id": "",
       "version_major": 2,
       "version_minor": 0
      },
      "text/plain": [
       "FloatProgress(value=0.0, bar_style='info', description='Progress:', layout=Layout(height='25px', width='50%'),…"
      ]
     },
     "metadata": {},
     "output_type": "display_data"
    },
    {
     "name": "stderr",
     "output_type": "stream",
     "text": [
      "An error was encountered:\n",
      "\"\\nextraneous input 'timestamp' expecting <EOF>(line 1, pos 48)\\n\\n== SQL ==\\nSelect timestamp, SUM(volume) from data groupby timestamp\\n------------------------------------------------^^^\\n\"\n",
      "Traceback (most recent call last):\n",
      "  File \"/usr/lib/spark/python/lib/pyspark.zip/pyspark/sql/session.py\", line 767, in sql\n",
      "    return DataFrame(self._jsparkSession.sql(sqlQuery), self._wrapped)\n",
      "  File \"/usr/lib/spark/python/lib/py4j-0.10.7-src.zip/py4j/java_gateway.py\", line 1257, in __call__\n",
      "    answer, self.gateway_client, self.target_id, self.name)\n",
      "  File \"/usr/lib/spark/python/lib/pyspark.zip/pyspark/sql/utils.py\", line 73, in deco\n",
      "    raise ParseException(s.split(': ', 1)[1], stackTrace)\n",
      "pyspark.sql.utils.ParseException: \"\\nextraneous input 'timestamp' expecting <EOF>(line 1, pos 48)\\n\\n== SQL ==\\nSelect timestamp, SUM(volume) from data groupby timestamp\\n------------------------------------------------^^^\\n\"\n",
      "\n"
     ]
    }
   ],
   "source": [
    "query2 = spark.sql(\"Select timestamp, SUM(volume) from data groupby timestamp\")"
   ]
  },
  {
   "cell_type": "code",
   "execution_count": 111,
   "id": "2e85c5eb-bf2c-4f43-afb2-9ddd8e1d873c",
   "metadata": {
    "execution": {
     "iopub.execute_input": "2022-12-05T04:44:42.425318Z",
     "iopub.status.busy": "2022-12-05T04:44:42.425091Z",
     "iopub.status.idle": "2022-12-05T04:44:42.483921Z",
     "shell.execute_reply": "2022-12-05T04:44:42.483299Z",
     "shell.execute_reply.started": "2022-12-05T04:44:42.425293Z"
    },
    "tags": []
   },
   "outputs": [
    {
     "data": {
      "application/vnd.jupyter.widget-view+json": {
       "model_id": "da197eb822e44169a856d488d4659645",
       "version_major": 2,
       "version_minor": 0
      },
      "text/plain": [
       "VBox()"
      ]
     },
     "metadata": {},
     "output_type": "display_data"
    },
    {
     "data": {
      "application/vnd.jupyter.widget-view+json": {
       "model_id": "",
       "version_major": 2,
       "version_minor": 0
      },
      "text/plain": [
       "FloatProgress(value=0.0, bar_style='info', description='Progress:', layout=Layout(height='25px', width='50%'),…"
      ]
     },
     "metadata": {},
     "output_type": "display_data"
    },
    {
     "name": "stdout",
     "output_type": "stream",
     "text": [
      "'s3n://stock-market-test/AARTIIND__EQ__NSE__NSE__MINUTE.csv'"
     ]
    }
   ],
   "source": [
    "data"
   ]
  },
  {
   "cell_type": "code",
   "execution_count": 117,
   "id": "715cfa93-f333-44f4-a4a9-366922338346",
   "metadata": {
    "execution": {
     "iopub.execute_input": "2022-12-05T04:49:51.599868Z",
     "iopub.status.busy": "2022-12-05T04:49:51.599633Z",
     "iopub.status.idle": "2022-12-05T04:49:51.866786Z",
     "shell.execute_reply": "2022-12-05T04:49:51.866170Z",
     "shell.execute_reply.started": "2022-12-05T04:49:51.599845Z"
    },
    "tags": []
   },
   "outputs": [
    {
     "data": {
      "application/vnd.jupyter.widget-view+json": {
       "model_id": "6c88b70b66764431b0e88e89dd85818f",
       "version_major": 2,
       "version_minor": 0
      },
      "text/plain": [
       "VBox()"
      ]
     },
     "metadata": {},
     "output_type": "display_data"
    },
    {
     "data": {
      "application/vnd.jupyter.widget-view+json": {
       "model_id": "",
       "version_major": 2,
       "version_minor": 0
      },
      "text/plain": [
       "FloatProgress(value=0.0, bar_style='info', description='Progress:', layout=Layout(height='25px', width='50%'),…"
      ]
     },
     "metadata": {},
     "output_type": "display_data"
    }
   ],
   "source": [
    "next_start_time = F.lead('timestamp').over(Window.partitionBy('volume').orderBy('timestamp'))\n",
    "end_time = F.when(next_start_time.isNull(),\n",
    "                  F.col('timestamp')\n",
    "           ).otherwise(\n",
    "                  F.date_sub(next_start_time, 1)\n",
    "           )"
   ]
  },
  {
   "cell_type": "code",
   "execution_count": 121,
   "id": "b135aae7-038e-4cd8-9aab-f92c7cc9a648",
   "metadata": {
    "execution": {
     "iopub.execute_input": "2022-12-05T04:50:18.746957Z",
     "iopub.status.busy": "2022-12-05T04:50:18.746728Z",
     "iopub.status.idle": "2022-12-05T04:50:18.801115Z",
     "shell.execute_reply": "2022-12-05T04:50:18.800577Z",
     "shell.execute_reply.started": "2022-12-05T04:50:18.746933Z"
    },
    "tags": []
   },
   "outputs": [
    {
     "data": {
      "application/vnd.jupyter.widget-view+json": {
       "model_id": "52ef0d2d4baa41b7940fb2ed162afc5c",
       "version_major": 2,
       "version_minor": 0
      },
      "text/plain": [
       "VBox()"
      ]
     },
     "metadata": {},
     "output_type": "display_data"
    },
    {
     "data": {
      "application/vnd.jupyter.widget-view+json": {
       "model_id": "",
       "version_major": 2,
       "version_minor": 0
      },
      "text/plain": [
       "FloatProgress(value=0.0, bar_style='info', description='Progress:', layout=Layout(height='25px', width='50%'),…"
      ]
     },
     "metadata": {},
     "output_type": "display_data"
    },
    {
     "name": "stderr",
     "output_type": "stream",
     "text": [
      "An error was encountered:\n",
      "'Column' object is not callable\n",
      "Traceback (most recent call last):\n",
      "TypeError: 'Column' object is not callable\n",
      "\n"
     ]
    }
   ],
   "source": []
  },
  {
   "cell_type": "code",
   "execution_count": null,
   "id": "756ea8f3-bb1e-405e-a283-a4632fa0dfb2",
   "metadata": {},
   "outputs": [],
   "source": []
  }
 ],
 "metadata": {
  "kernelspec": {
   "display_name": "Python 3",
   "language": "python",
   "name": "python3"
  },
  "language_info": {
   "codemirror_mode": {
    "name": "ipython",
    "version": 3
   },
   "file_extension": ".py",
   "mimetype": "text/x-python",
   "name": "python",
   "nbconvert_exporter": "python",
   "pygments_lexer": "ipython3",
   "version": "3.8.8"
  }
 },
 "nbformat": 4,
 "nbformat_minor": 5
}
